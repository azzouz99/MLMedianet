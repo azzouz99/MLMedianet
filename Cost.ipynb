{
 "cells": [
  {
   "cell_type": "code",
   "execution_count": 48,
   "id": "172900d1-efb3-489e-9842-6ca038873245",
   "metadata": {},
   "outputs": [
    {
     "name": "stderr",
     "output_type": "stream",
     "text": [
      "C:\\Users\\abder\\anaconda3\\Lib\\site-packages\\sklearn\\preprocessing\\_encoders.py:868: FutureWarning: `sparse` was renamed to `sparse_output` in version 1.2 and will be removed in 1.4. `sparse_output` is ignored unless you leave `sparse` to its default value.\n",
      "  warnings.warn(\n"
     ]
    },
    {
     "name": "stdout",
     "output_type": "stream",
     "text": [
      "Linear Regression R-squared: 0.8020551957756918\n",
      "KNN R-squared: 0.7896027172196549\n",
      "Gradient Boosting Regressor R-squared: 0.9379723973501641\n",
      "Decision Tree R-squared: 0.9324596507419114\n",
      "Random Forest R-squared: 0.9043528949650326\n",
      "Gradient Boosting R-squared: 0.9275831545470008\n",
      "R-squared: 0.9275831545470008\n",
      "     Actual     Predicted\n",
      "19    12000  14968.662638\n",
      "45     2850   3282.580719\n",
      "139    3700   3060.691151\n",
      "30    30000  29133.885912\n",
      "67     3000   2585.294938\n"
     ]
    }
   ],
   "source": [
    "import pandas as pd\n",
    "from sklearn.model_selection import train_test_split\n",
    "from sklearn.preprocessing import OneHotEncoder\n",
    "from sklearn.linear_model import LinearRegression\n",
    "from sklearn.metrics import r2_score\n",
    "from sklearn.tree import DecisionTreeRegressor\n",
    "from sklearn.ensemble import RandomForestRegressor\n",
    "from sklearn.ensemble import GradientBoostingRegressor\n",
    "# Load dataset (replace 'Rentabilité.xlsx' with your file path)\n",
    "df = pd.read_excel('Rentabilité.xlsx')\n",
    "\n",
    "# Function to preprocess data and encode categorical features\n",
    "def preprocess_data(df):\n",
    "    # Encode 'Ressources' column\n",
    "    encoder = OneHotEncoder(sparse=False, drop='first')\n",
    "    resources_encoded = encoder.fit_transform(df[['Ressources']])\n",
    "    resources_encoded_df = pd.DataFrame(resources_encoded, columns=encoder.get_feature_names_out(['Ressources']))\n",
    "\n",
    "    # Concatenate encoded features with the original DataFrame\n",
    "    df_encoded = pd.concat([df.drop(columns=['Ressources']), resources_encoded_df], axis=1)\n",
    "\n",
    "    X = df_encoded[['J/H Vendus','Coût unitaire'] + list(df_encoded.columns[df_encoded.columns.str.startswith('Ressources_')])]\n",
    "    y = df_encoded['Couts']\n",
    "    return X, y\n",
    "\n",
    "# Preprocess data\n",
    "X, y = preprocess_data(df)\n",
    "\n",
    "# Split data into training and testing sets\n",
    "X_train, X_test, y_train, y_test = train_test_split(X, y, test_size=0.2, random_state=42)\n",
    "\n",
    "# Train Linear Regression model\n",
    "model = LinearRegression()\n",
    "model.fit(X_train, y_train)\n",
    "ln_y_pred = model.predict(X_test)\n",
    "ln_r2 = r2_score(y_test, ln_y_pred)\n",
    "print(\"Linear Regression R-squared:\", ln_r2)\n",
    "# Train Decision knn\n",
    "knn_model = KNeighborsRegressor(n_neighbors=5)\n",
    "knn_model.fit(X_train, y_train)\n",
    "knn_y_pred = knn_model.predict(X_test)\n",
    "knn_r2 = r2_score(y_test, knn_y_pred)\n",
    "print(\"KNN R-squared:\", knn_r2)\n",
    "\n",
    "# Train Decision GBR\n",
    "gb_model = GradientBoostingRegressor(n_estimators=100, learning_rate=0.1, max_depth=5, random_state=42)\n",
    "gb_model.fit(X_train, y_train)\n",
    "gb_y_pred = gb_model.predict(X_test)\n",
    "gb_r2 = r2_score(y_test, gb_y_pred)\n",
    "print(\"Gradient Boosting Regressor R-squared:\", gb_r2)\n",
    "\n",
    "# Train Decision Tree model\n",
    "dt_model = DecisionTreeRegressor()\n",
    "dt_model.fit(X_train, y_train)\n",
    "dt_y_pred = dt_model.predict(X_test)\n",
    "dt_r2 = r2_score(y_test, dt_y_pred)\n",
    "print(\"Decision Tree R-squared:\", dt_r2)\n",
    "\n",
    "# Train Random Forest model\n",
    "rf_model = RandomForestRegressor()\n",
    "rf_model.fit(X_train, y_train)\n",
    "rf_y_pred = rf_model.predict(X_test)\n",
    "rf_r2 = r2_score(y_test, rf_y_pred)\n",
    "print(\"Random Forest R-squared:\", rf_r2)\n",
    "\n",
    "# Train Gradient Boosting model\n",
    "gb_model = GradientBoostingRegressor()\n",
    "gb_model.fit(X_train, y_train)\n",
    "gb_y_pred = gb_model.predict(X_test)\n",
    "gb_r2 = r2_score(y_test, gb_y_pred)\n",
    "print(\"Gradient Boosting R-squared:\", gb_r2)\n",
    "\n",
    "# Predict on test set\n",
    "y_pred = model.predict(X_test)\n",
    "\n",
    "# Evaluate model\n",
    "r2 = r2_score(y_test, y_pred)\n",
    "print(\"R-squared:\", gb_r2)\n",
    "\n",
    "# Compare actual vs predicted values\n",
    "predictions_df = pd.DataFrame({'Actual': y_test, 'Predicted': gb_y_pred})\n",
    "print(predictions_df.head())\n"
   ]
  },
  {
   "cell_type": "code",
   "execution_count": 49,
   "id": "ee4c9d77-8634-48ef-a558-5c7ef02bdad0",
   "metadata": {},
   "outputs": [],
   "source": [
    "import joblib\n",
    "\n",
    "def save_model(model, filename):\n",
    "    joblib.dump(model, filename)\n",
    "\n",
    "# Save your models\n",
    "save_model(gb_model, 'cost_model.pkl')"
   ]
  },
  {
   "cell_type": "code",
   "execution_count": 50,
   "id": "94efc9e4-a701-4acc-8afc-3e20a2aea8e3",
   "metadata": {},
   "outputs": [
    {
     "name": "stderr",
     "output_type": "stream",
     "text": [
      "C:\\Users\\abder\\anaconda3\\Lib\\site-packages\\sklearn\\preprocessing\\_encoders.py:868: FutureWarning: `sparse` was renamed to `sparse_output` in version 1.2 and will be removed in 1.4. `sparse_output` is ignored unless you leave `sparse` to its default value.\n",
      "  warnings.warn(\n"
     ]
    },
    {
     "data": {
      "text/plain": [
       "['encoder.pkl']"
      ]
     },
     "execution_count": 50,
     "metadata": {},
     "output_type": "execute_result"
    }
   ],
   "source": [
    "encoder = OneHotEncoder(sparse=False, drop='first')\n",
    "resources_encoded = encoder.fit_transform(df[['Ressources']])\n",
    "joblib.dump(encoder, 'encoder.pkl')"
   ]
  },
  {
   "cell_type": "code",
   "execution_count": null,
   "id": "0f86ddaa-a06f-40b6-89d6-0b8a0917cc2e",
   "metadata": {},
   "outputs": [],
   "source": []
  }
 ],
 "metadata": {
  "kernelspec": {
   "display_name": "Python 3 (ipykernel)",
   "language": "python",
   "name": "python3"
  },
  "language_info": {
   "codemirror_mode": {
    "name": "ipython",
    "version": 3
   },
   "file_extension": ".py",
   "mimetype": "text/x-python",
   "name": "python",
   "nbconvert_exporter": "python",
   "pygments_lexer": "ipython3",
   "version": "3.11.7"
  }
 },
 "nbformat": 4,
 "nbformat_minor": 5
}
